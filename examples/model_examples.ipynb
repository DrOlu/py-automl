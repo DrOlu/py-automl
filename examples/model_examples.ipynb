{
  "nbformat": 4,
  "nbformat_minor": 0,
  "metadata": {
    "colab": {
      "name": "model_examples.ipynb",
      "provenance": []
    },
    "kernelspec": {
      "name": "python3",
      "display_name": "Python 3"
    }
  },
  "cells": [
    {
      "cell_type": "markdown",
      "metadata": {
        "id": "rfK6n5cUqU5q",
        "colab_type": "text"
      },
      "source": [
        "## Defining the lenet neural network architecture"
      ]
    },
    {
      "cell_type": "code",
      "metadata": {
        "id": "gUXGu-ZUqUA0",
        "colab_type": "code",
        "colab": {}
      },
      "source": [
        "model = keras.Sequential()\n",
        "\n",
        "    model.add(layers.Conv2D(filters=6, kernel_size=(3, 3), activation='relu', input_shape=input_shape))\n",
        "    model.add(layers.AveragePooling2D())\n",
        "\n",
        "    model.add(layers.Conv2D(filters=16, kernel_size=(3, 3), activation='relu'))\n",
        "    model.add(layers.AveragePooling2D())\n",
        "\n",
        "    model.add(layers.Flatten())\n",
        "\n",
        "    model.add(layers.Dense(units=120, activation='relu'))\n",
        "\n",
        "    model.add(layers.Dense(units=84, activation='relu'))\n",
        "\n",
        "    model.add(layers.Dense(units=10, activation = classifier_function))\n",
        "\n",
        "    model.compile('adam', loss_function, metrics=['acc'])\n",
        "    "
      ],
      "execution_count": null,
      "outputs": []
    },
    {
      "cell_type": "markdown",
      "metadata": {
        "id": "a8YNzURVqt87",
        "colab_type": "text"
      },
      "source": [
        "**We can define entire architecture in a single line of code**\n"
      ]
    },
    {
      "cell_type": "code",
      "metadata": {
        "id": "4KDNAlbRqtS6",
        "colab_type": "code",
        "colab": {}
      },
      "source": [
        "from py-automl.model import *"
      ],
      "execution_count": null,
      "outputs": []
    },
    {
      "cell_type": "code",
      "metadata": {
        "id": "xMppuZQkrsoc",
        "colab_type": "code",
        "colab": {}
      },
      "source": [
        "import keras\n",
        "from keras import *"
      ],
      "execution_count": 5,
      "outputs": []
    },
    {
      "cell_type": "code",
      "metadata": {
        "id": "W0ynlmKDrC6B",
        "colab_type": "code",
        "colab": {
          "base_uri": "https://localhost:8080/",
          "height": 425
        },
        "outputId": "1c885ca0-c923-4b8a-f8ab-9db2dce2a173"
      },
      "source": [
        "lenet_model = model(arch=\"lenet5\")\n",
        "lenet_model.summary()"
      ],
      "execution_count": 6,
      "outputs": [
        {
          "output_type": "stream",
          "text": [
            "Model: \"sequential\"\n",
            "_________________________________________________________________\n",
            "Layer (type)                 Output Shape              Param #   \n",
            "=================================================================\n",
            "conv2d (Conv2D)              (None, 46, 46, 6)         60        \n",
            "_________________________________________________________________\n",
            "average_pooling2d (AveragePo (None, 23, 23, 6)         0         \n",
            "_________________________________________________________________\n",
            "conv2d_1 (Conv2D)            (None, 21, 21, 16)        880       \n",
            "_________________________________________________________________\n",
            "average_pooling2d_1 (Average (None, 10, 10, 16)        0         \n",
            "_________________________________________________________________\n",
            "flatten (Flatten)            (None, 1600)              0         \n",
            "_________________________________________________________________\n",
            "dense (Dense)                (None, 120)               192120    \n",
            "_________________________________________________________________\n",
            "dense_1 (Dense)              (None, 84)                10164     \n",
            "_________________________________________________________________\n",
            "dense_2 (Dense)              (None, 10)                850       \n",
            "=================================================================\n",
            "Total params: 204,074\n",
            "Trainable params: 204,074\n",
            "Non-trainable params: 0\n",
            "_________________________________________________________________\n"
          ],
          "name": "stdout"
        }
      ]
    },
    {
      "cell_type": "code",
      "metadata": {
        "id": "ZQP43yZ5r3QC",
        "colab_type": "code",
        "colab": {
          "base_uri": "https://localhost:8080/",
          "height": 425
        },
        "outputId": "edc25adb-7424-4ddf-c703-4ee18b03e379"
      },
      "source": [
        "#more generalization\n",
        "\n",
        "lenet_model = model(input_shape= (30,30,4) , arch=\"lenet5\", classify=\"binary\" )\n",
        "lenet_model.summary()"
      ],
      "execution_count": 7,
      "outputs": [
        {
          "output_type": "stream",
          "text": [
            "Model: \"sequential_1\"\n",
            "_________________________________________________________________\n",
            "Layer (type)                 Output Shape              Param #   \n",
            "=================================================================\n",
            "conv2d_2 (Conv2D)            (None, 28, 28, 6)         222       \n",
            "_________________________________________________________________\n",
            "average_pooling2d_2 (Average (None, 14, 14, 6)         0         \n",
            "_________________________________________________________________\n",
            "conv2d_3 (Conv2D)            (None, 12, 12, 16)        880       \n",
            "_________________________________________________________________\n",
            "average_pooling2d_3 (Average (None, 6, 6, 16)          0         \n",
            "_________________________________________________________________\n",
            "flatten_1 (Flatten)          (None, 576)               0         \n",
            "_________________________________________________________________\n",
            "dense_3 (Dense)              (None, 120)               69240     \n",
            "_________________________________________________________________\n",
            "dense_4 (Dense)              (None, 84)                10164     \n",
            "_________________________________________________________________\n",
            "dense_5 (Dense)              (None, 10)                850       \n",
            "=================================================================\n",
            "Total params: 81,356\n",
            "Trainable params: 81,356\n",
            "Non-trainable params: 0\n",
            "_________________________________________________________________\n"
          ],
          "name": "stdout"
        }
      ]
    },
    {
      "cell_type": "code",
      "metadata": {
        "id": "npZm9bXZsQGT",
        "colab_type": "code",
        "colab": {}
      },
      "source": [
        ""
      ],
      "execution_count": null,
      "outputs": []
    },
    {
      "cell_type": "markdown",
      "metadata": {
        "id": "T3BCSGclsTU4",
        "colab_type": "text"
      },
      "source": [
        "## In the same way we can implement popular neural networks such as googlenet, vgg16, inception, lenet, alexnet etc... with ease in a single line of code"
      ]
    },
    {
      "cell_type": "code",
      "metadata": {
        "id": "B3hvctsksk1I",
        "colab_type": "code",
        "colab": {}
      },
      "source": [
        "alexNet_model = model(\"alexNet\")\n",
        "\n",
        "lenet5_model = model(\"lenet5\")\n",
        "\n",
        "googleNet_model = model(\"googleNet\")\n",
        "\n",
        "vgg16_model = model(\"vgg16\")\n",
        "\n",
        "### etc...\n",
        "\n"
      ],
      "execution_count": null,
      "outputs": []
    },
    {
      "cell_type": "code",
      "metadata": {
        "id": "wtNleeVftPj4",
        "colab_type": "code",
        "colab": {}
      },
      "source": [
        "# Lets take all models that are defined in the py_automl and which are implemented in a signle line of code\n",
        "models = [\"simple_cnn\", \"basic_cnn\", \"googleNet\", \"inception\",\"vgg16\",\"lenet5\",\"alexNet\", \"basic_mlp\",\"deep_mlp\",\"basic_lstm\",\"deep_lstm\" ]"
      ],
      "execution_count": 9,
      "outputs": []
    },
    {
      "cell_type": "code",
      "metadata": {
        "id": "RWiXeq3LvgJi",
        "colab_type": "code",
        "colab": {}
      },
      "source": [
        "d= {}\n",
        "\n",
        "for i in models:\n",
        "  d[i] = model(i)  # assigning all architectures to its model names using dictionary"
      ],
      "execution_count": null,
      "outputs": []
    }
  ]
}